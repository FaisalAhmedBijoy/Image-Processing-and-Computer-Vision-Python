{
 "cells": [
  {
   "cell_type": "markdown",
   "metadata": {},
   "source": [
    "## Arithmetic Operations\n",
    "\n",
    "These are simple operations that allow us to directly add or subract to the color intensity.\n",
    "\n",
    "Calculates the per-element operation of two arrays. The overall effect is increasing or decreasing brightness."
   ]
  },
  {
   "cell_type": "code",
   "execution_count": 6,
   "metadata": {},
   "outputs": [],
   "source": [
    "import cv2\n",
    "import numpy as np\n",
    "\n",
    "image = cv2.imread('images/input.jpg')\n",
    "cv2.imshow('original image',image)\n",
    "#image = cv2.imread('images/input.jpg')\n",
    "\n",
    "# Create a matrix of ones, then multiply it by a scaler of 100 \n",
    "# This gives a matrix with same dimesions of our image with all values being 100\n",
    "M = np.ones(image.shape, dtype = \"uint8\") * 75 \n",
    "\n",
    "# We use this to add this matrix M, to our image\n",
    "# Notice the increase in brightness\n",
    "added = cv2.add(image, M)\n",
    "cv2.imshow(\"Added\", added)\n",
    "\n",
    "# Likewise we can also subtract\n",
    "# Notice the decrease in brightness\n",
    "subtracted = cv2.subtract(image, M)\n",
    "cv2.imshow(\"Subtracted\", subtracted)\n",
    "\n",
    "cv2.waitKey(0)\n",
    "cv2.destroyAllWindows()"
   ]
  },
  {
   "cell_type": "code",
   "execution_count": 4,
   "metadata": {},
   "outputs": [
    {
     "data": {
      "text/plain": [
       "array([[[175, 175, 175],\n",
       "        [175, 175, 175],\n",
       "        [175, 175, 175],\n",
       "        ...,\n",
       "        [175, 175, 175],\n",
       "        [175, 175, 175],\n",
       "        [175, 175, 175]],\n",
       "\n",
       "       [[175, 175, 175],\n",
       "        [175, 175, 175],\n",
       "        [175, 175, 175],\n",
       "        ...,\n",
       "        [175, 175, 175],\n",
       "        [175, 175, 175],\n",
       "        [175, 175, 175]],\n",
       "\n",
       "       [[175, 175, 175],\n",
       "        [175, 175, 175],\n",
       "        [175, 175, 175],\n",
       "        ...,\n",
       "        [175, 175, 175],\n",
       "        [175, 175, 175],\n",
       "        [175, 175, 175]],\n",
       "\n",
       "       ...,\n",
       "\n",
       "       [[175, 175, 175],\n",
       "        [175, 175, 175],\n",
       "        [175, 175, 175],\n",
       "        ...,\n",
       "        [175, 175, 175],\n",
       "        [175, 175, 175],\n",
       "        [175, 175, 175]],\n",
       "\n",
       "       [[175, 175, 175],\n",
       "        [175, 175, 175],\n",
       "        [175, 175, 175],\n",
       "        ...,\n",
       "        [175, 175, 175],\n",
       "        [175, 175, 175],\n",
       "        [175, 175, 175]],\n",
       "\n",
       "       [[175, 175, 175],\n",
       "        [175, 175, 175],\n",
       "        [175, 175, 175],\n",
       "        ...,\n",
       "        [175, 175, 175],\n",
       "        [175, 175, 175],\n",
       "        [175, 175, 175]]], dtype=uint8)"
      ]
     },
     "execution_count": 4,
     "metadata": {},
     "output_type": "execute_result"
    }
   ],
   "source": [
    "M = np.ones(image.shape, dtype = \"uint8\") *175\n",
    "M"
   ]
  },
  {
   "cell_type": "code",
   "execution_count": 5,
   "metadata": {},
   "outputs": [
    {
     "data": {
      "text/plain": [
       "array([[[12, 18, 31],\n",
       "        [12, 18, 31],\n",
       "        [11, 17, 30],\n",
       "        ...,\n",
       "        [21, 24, 38],\n",
       "        [21, 24, 38],\n",
       "        [21, 24, 38]],\n",
       "\n",
       "       [[12, 18, 31],\n",
       "        [12, 18, 31],\n",
       "        [12, 18, 31],\n",
       "        ...,\n",
       "        [21, 24, 38],\n",
       "        [21, 24, 38],\n",
       "        [21, 24, 38]],\n",
       "\n",
       "       [[12, 18, 31],\n",
       "        [12, 18, 31],\n",
       "        [12, 18, 31],\n",
       "        ...,\n",
       "        [21, 24, 38],\n",
       "        [21, 24, 38],\n",
       "        [21, 24, 38]],\n",
       "\n",
       "       ...,\n",
       "\n",
       "       [[ 4,  7, 12],\n",
       "        [ 4,  7, 12],\n",
       "        [ 3,  7, 12],\n",
       "        ...,\n",
       "        [18, 23, 38],\n",
       "        [19, 24, 39],\n",
       "        [20, 25, 40]],\n",
       "\n",
       "       [[ 3,  6, 11],\n",
       "        [ 3,  6, 11],\n",
       "        [ 3,  6, 11],\n",
       "        ...,\n",
       "        [18, 23, 38],\n",
       "        [19, 24, 39],\n",
       "        [20, 25, 40]],\n",
       "\n",
       "       [[ 3,  6, 11],\n",
       "        [ 3,  6, 11],\n",
       "        [ 2,  5, 10],\n",
       "        ...,\n",
       "        [18, 23, 38],\n",
       "        [18, 23, 38],\n",
       "        [19, 24, 39]]], dtype=uint8)"
      ]
     },
     "execution_count": 5,
     "metadata": {},
     "output_type": "execute_result"
    }
   ],
   "source": [
    "image"
   ]
  },
  {
   "cell_type": "code",
   "execution_count": 9,
   "metadata": {},
   "outputs": [
    {
     "data": {
      "text/plain": [
       "array([[[0, 0, 0],\n",
       "        [0, 0, 0],\n",
       "        [0, 0, 0],\n",
       "        ...,\n",
       "        [0, 0, 0],\n",
       "        [0, 0, 0],\n",
       "        [0, 0, 0]],\n",
       "\n",
       "       [[0, 0, 0],\n",
       "        [0, 0, 0],\n",
       "        [0, 0, 0],\n",
       "        ...,\n",
       "        [0, 0, 0],\n",
       "        [0, 0, 0],\n",
       "        [0, 0, 0]],\n",
       "\n",
       "       [[0, 0, 0],\n",
       "        [0, 0, 0],\n",
       "        [0, 0, 0],\n",
       "        ...,\n",
       "        [0, 0, 0],\n",
       "        [0, 0, 0],\n",
       "        [0, 0, 0]],\n",
       "\n",
       "       ...,\n",
       "\n",
       "       [[0, 0, 0],\n",
       "        [0, 0, 0],\n",
       "        [0, 0, 0],\n",
       "        ...,\n",
       "        [0, 0, 0],\n",
       "        [0, 0, 0],\n",
       "        [0, 0, 0]],\n",
       "\n",
       "       [[0, 0, 0],\n",
       "        [0, 0, 0],\n",
       "        [0, 0, 0],\n",
       "        ...,\n",
       "        [0, 0, 0],\n",
       "        [0, 0, 0],\n",
       "        [0, 0, 0]],\n",
       "\n",
       "       [[0, 0, 0],\n",
       "        [0, 0, 0],\n",
       "        [0, 0, 0],\n",
       "        ...,\n",
       "        [0, 0, 0],\n",
       "        [0, 0, 0],\n",
       "        [0, 0, 0]]], dtype=uint8)"
      ]
     },
     "execution_count": 9,
     "metadata": {},
     "output_type": "execute_result"
    }
   ],
   "source": [
    "subtracted"
   ]
  },
  {
   "cell_type": "code",
   "execution_count": 10,
   "metadata": {},
   "outputs": [
    {
     "data": {
      "text/plain": [
       "array([[[ 87,  93, 106],\n",
       "        [ 87,  93, 106],\n",
       "        [ 86,  92, 105],\n",
       "        ...,\n",
       "        [ 96,  99, 113],\n",
       "        [ 96,  99, 113],\n",
       "        [ 96,  99, 113]],\n",
       "\n",
       "       [[ 87,  93, 106],\n",
       "        [ 87,  93, 106],\n",
       "        [ 87,  93, 106],\n",
       "        ...,\n",
       "        [ 96,  99, 113],\n",
       "        [ 96,  99, 113],\n",
       "        [ 96,  99, 113]],\n",
       "\n",
       "       [[ 87,  93, 106],\n",
       "        [ 87,  93, 106],\n",
       "        [ 87,  93, 106],\n",
       "        ...,\n",
       "        [ 96,  99, 113],\n",
       "        [ 96,  99, 113],\n",
       "        [ 96,  99, 113]],\n",
       "\n",
       "       ...,\n",
       "\n",
       "       [[ 79,  82,  87],\n",
       "        [ 79,  82,  87],\n",
       "        [ 78,  82,  87],\n",
       "        ...,\n",
       "        [ 93,  98, 113],\n",
       "        [ 94,  99, 114],\n",
       "        [ 95, 100, 115]],\n",
       "\n",
       "       [[ 78,  81,  86],\n",
       "        [ 78,  81,  86],\n",
       "        [ 78,  81,  86],\n",
       "        ...,\n",
       "        [ 93,  98, 113],\n",
       "        [ 94,  99, 114],\n",
       "        [ 95, 100, 115]],\n",
       "\n",
       "       [[ 78,  81,  86],\n",
       "        [ 78,  81,  86],\n",
       "        [ 77,  80,  85],\n",
       "        ...,\n",
       "        [ 93,  98, 113],\n",
       "        [ 93,  98, 113],\n",
       "        [ 94,  99, 114]]], dtype=uint8)"
      ]
     },
     "execution_count": 10,
     "metadata": {},
     "output_type": "execute_result"
    }
   ],
   "source": [
    "added"
   ]
  },
  {
   "cell_type": "code",
   "execution_count": 13,
   "metadata": {},
   "outputs": [
    {
     "data": {
      "text/plain": [
       "array([[[12, 18, 31],\n",
       "        [12, 18, 31],\n",
       "        [11, 17, 30],\n",
       "        ...,\n",
       "        [21, 24, 38],\n",
       "        [21, 24, 38],\n",
       "        [21, 24, 38]],\n",
       "\n",
       "       [[12, 18, 31],\n",
       "        [12, 18, 31],\n",
       "        [12, 18, 31],\n",
       "        ...,\n",
       "        [21, 24, 38],\n",
       "        [21, 24, 38],\n",
       "        [21, 24, 38]],\n",
       "\n",
       "       [[12, 18, 31],\n",
       "        [12, 18, 31],\n",
       "        [12, 18, 31],\n",
       "        ...,\n",
       "        [21, 24, 38],\n",
       "        [21, 24, 38],\n",
       "        [21, 24, 38]],\n",
       "\n",
       "       ...,\n",
       "\n",
       "       [[ 4,  7, 12],\n",
       "        [ 4,  7, 12],\n",
       "        [ 3,  7, 12],\n",
       "        ...,\n",
       "        [18, 23, 38],\n",
       "        [19, 24, 39],\n",
       "        [20, 25, 40]],\n",
       "\n",
       "       [[ 3,  6, 11],\n",
       "        [ 3,  6, 11],\n",
       "        [ 3,  6, 11],\n",
       "        ...,\n",
       "        [18, 23, 38],\n",
       "        [19, 24, 39],\n",
       "        [20, 25, 40]],\n",
       "\n",
       "       [[ 3,  6, 11],\n",
       "        [ 3,  6, 11],\n",
       "        [ 2,  5, 10],\n",
       "        ...,\n",
       "        [18, 23, 38],\n",
       "        [18, 23, 38],\n",
       "        [19, 24, 39]]], dtype=uint8)"
      ]
     },
     "execution_count": 13,
     "metadata": {},
     "output_type": "execute_result"
    }
   ],
   "source": [
    "image"
   ]
  }
 ],
 "metadata": {
  "kernelspec": {
   "display_name": "Python 3",
   "language": "python",
   "name": "python3"
  },
  "language_info": {
   "codemirror_mode": {
    "name": "ipython",
    "version": 3
   },
   "file_extension": ".py",
   "mimetype": "text/x-python",
   "name": "python",
   "nbconvert_exporter": "python",
   "pygments_lexer": "ipython3",
   "version": "3.7.3"
  }
 },
 "nbformat": 4,
 "nbformat_minor": 1
}
