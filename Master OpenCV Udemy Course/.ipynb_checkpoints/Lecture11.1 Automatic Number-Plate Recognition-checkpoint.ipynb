{
 "cells": [
  {
   "cell_type": "markdown",
   "metadata": {},
   "source": [
    "## Automatic Number-Plate Recognition\n",
    "Using PyTesseract OCR Reader"
   ]
  },
  {
   "cell_type": "markdown",
   "metadata": {},
   "source": [
    "#### Let's experiment with PyTesseract"
   ]
  },
  {
   "cell_type": "code",
   "execution_count": 1,
   "metadata": {},
   "outputs": [
    {
     "ename": "ModuleNotFoundError",
     "evalue": "No module named 'pytesseract'",
     "output_type": "error",
     "traceback": [
      "\u001b[1;31m---------------------------------------------------------------------------\u001b[0m",
      "\u001b[1;31mModuleNotFoundError\u001b[0m                       Traceback (most recent call last)",
      "\u001b[1;32m<ipython-input-1-ad119e980a8a>\u001b[0m in \u001b[0;36m<module>\u001b[1;34m\u001b[0m\n\u001b[1;32m----> 1\u001b[1;33m \u001b[1;32mimport\u001b[0m \u001b[0mpytesseract\u001b[0m \u001b[1;32mas\u001b[0m \u001b[0mtess\u001b[0m\u001b[1;33m\u001b[0m\u001b[1;33m\u001b[0m\u001b[0m\n\u001b[0m\u001b[0;32m      2\u001b[0m \u001b[1;33m\u001b[0m\u001b[0m\n\u001b[0;32m      3\u001b[0m \u001b[0mimg\u001b[0m \u001b[1;33m=\u001b[0m \u001b[0mcv2\u001b[0m\u001b[1;33m.\u001b[0m\u001b[0mimread\u001b[0m\u001b[1;33m(\u001b[0m\u001b[1;34m\"./images/OCRtestimg.jpg\"\u001b[0m\u001b[1;33m)\u001b[0m\u001b[1;33m\u001b[0m\u001b[1;33m\u001b[0m\u001b[0m\n\u001b[0;32m      4\u001b[0m \u001b[0mcv2\u001b[0m\u001b[1;33m.\u001b[0m\u001b[0mimshow\u001b[0m\u001b[1;33m(\u001b[0m\u001b[1;34m\"Test Image\"\u001b[0m\u001b[1;33m,\u001b[0m \u001b[0mimg\u001b[0m\u001b[1;33m)\u001b[0m\u001b[1;33m\u001b[0m\u001b[1;33m\u001b[0m\u001b[0m\n\u001b[0;32m      5\u001b[0m \u001b[0mcv2\u001b[0m\u001b[1;33m.\u001b[0m\u001b[0mwaitKey\u001b[0m\u001b[1;33m(\u001b[0m\u001b[1;36m0\u001b[0m\u001b[1;33m)\u001b[0m\u001b[1;33m\u001b[0m\u001b[1;33m\u001b[0m\u001b[0m\n",
      "\u001b[1;31mModuleNotFoundError\u001b[0m: No module named 'pytesseract'"
     ]
    }
   ],
   "source": [
    "import pytesseract as tess\n",
    "\n",
    "img = cv2.imread(\"./images/OCRtestimg.jpg\")\n",
    "cv2.imshow(\"Test Image\", img)\n",
    "cv2.waitKey(0)\n",
    "cv2.destroyAllWindows()\n",
    "test_image = Image.fromarray(img)\n",
    "text = tess.image_to_string(test_image, lang='eng')\n",
    "print(\"PyTesseract Detected the following text: \", text)"
   ]
  },
  {
   "cell_type": "markdown",
   "metadata": {},
   "source": [
    "### Let's build our ANPR System"
   ]
  },
  {
   "cell_type": "code",
   "execution_count": 2,
   "metadata": {
    "scrolled": true
   },
   "outputs": [
    {
     "name": "stdout",
     "output_type": "stream",
     "text": [
      "DETECTING PLATE . . .\n",
      "Detected Text :  HHOHVBBGE\n"
     ]
    }
   ],
   "source": [
    "import numpy as np\n",
    "import cv2\n",
    "from copy import deepcopy\n",
    "from PIL import Image\n",
    "import pytesseract as tess\n",
    "\n",
    "def preprocess(img):\n",
    "    \"\"\"This function takes an image, applies blurring, uses sobel\n",
    "    to get horizontal lines. It then returns the binarized image\"\"\"\n",
    "    cv2.imshow(\"Input\",img)\n",
    "    imgBlurred = cv2.GaussianBlur(img, (5,5), 0)\n",
    "    gray = cv2.cvtColor(imgBlurred, cv2.COLOR_BGR2GRAY)\n",
    "\n",
    "    sobelx = cv2.Sobel(gray,cv2.CV_8U,1,0,ksize=3)\n",
    "    cv2.imshow(\"Sobel\",sobelx)\n",
    "    cv2.waitKey(0)\n",
    "    ret2,threshold_img = cv2.threshold(sobelx,0,255,cv2.THRESH_BINARY+cv2.THRESH_OTSU)\n",
    "    cv2.imshow(\"Threshold\",threshold_img)\n",
    "    cv2.waitKey(0)\n",
    "    return threshold_img\n",
    "\n",
    "def cleanPlate(plate):\n",
    "    \"\"\"This function gets the countours that most likely resemeber the shape\n",
    "    of a license plate\"\"\"    \n",
    "    gray = cv2.cvtColor(plate, cv2.COLOR_BGR2GRAY)\n",
    "    kernel = cv2.getStructuringElement(cv2.MORPH_CROSS, (3, 3))\n",
    "    thresh = cv2.dilate(gray, kernel, iterations = 1)\n",
    "\n",
    "    _, thresh = cv2.threshold(gray, 150, 255, cv2.THRESH_BINARY)\n",
    "    contours, hierarchy = cv2.findContours(thresh.copy(),cv2.RETR_EXTERNAL, cv2.CHAIN_APPROX_NONE)\n",
    "\n",
    "    if contours:\n",
    "        areas = [cv2.contourArea(c) for c in contours]\n",
    "        max_index = np.argmax(areas)\n",
    "\n",
    "        max_cnt = contours[max_index]\n",
    "        max_cntArea = areas[max_index]\n",
    "        x,y,w,h = cv2.boundingRect(max_cnt)\n",
    "\n",
    "        if not ratioCheck(max_cntArea,w,h):\n",
    "            return plate,None\n",
    "\n",
    "        cleaned_final = thresh[y:y+h, x:x+w]\n",
    "        cv2.imshow(\"Function Test\", cleaned_final)\n",
    "        return cleaned_final,[x,y,w,h]\n",
    "\n",
    "    else:\n",
    "        return plate, None\n",
    "\n",
    "def extract_contours(threshold_img):\n",
    "    \"\"\"This function returns the extracted contours\"\"\"\n",
    "    element = cv2.getStructuringElement(shape=cv2.MORPH_RECT, ksize=(17, 3))\n",
    "    morph_img_threshold = threshold_img.copy()\n",
    "    cv2.morphologyEx(src=threshold_img, op=cv2.MORPH_CLOSE, kernel=element, dst=morph_img_threshold)\n",
    "    cv2.imshow(\"Morphed\", morph_img_threshold)\n",
    "    cv2.waitKey(0)\n",
    "\n",
    "    contours, hierarchy= cv2.findContours(morph_img_threshold,mode=cv2.RETR_EXTERNAL,method=cv2.CHAIN_APPROX_NONE)\n",
    "    return contours\n",
    "\n",
    "\n",
    "def ratioCheck(area, width, height):\n",
    "    \"\"\"This function inspects the ratio of the contour to ensure it meets the requirements \n",
    "    suitable to a real license plate\"\"\"\n",
    "    ratio = float(width) / float(height)\n",
    "    if ratio < 1:\n",
    "        ratio = 1 / ratio\n",
    "\n",
    "    aspect = 4.7272\n",
    "    min = 15 * aspect * 15  # minimum area\n",
    "    max = 125 *aspect * 125  # maximum area\n",
    "\n",
    "    rmin = 3\n",
    "    rmax = 6\n",
    "\n",
    "    if (area < min or area > max) or (ratio < rmin or ratio > rmax):\n",
    "        return False\n",
    "    return True\n",
    "\n",
    "def isMaxWhite(plate):\n",
    "    \"\"\"Checks the average color of the potential plate and if there is more\n",
    "    white than black colors it returns true\"\"\"\n",
    "    avg = np.mean(plate)\n",
    "    if(avg>=115):\n",
    "        return True\n",
    "    else:\n",
    "        return False\n",
    "\n",
    "def validateRotationAndRatio(rect):\n",
    "    \"\"\"Checks the angle of the rectangle potential license plate\"\"\"\n",
    "    (x, y), (width, height), rect_angle = rect\n",
    "\n",
    "    if(width>height):\n",
    "        angle = -rect_angle\n",
    "    else:\n",
    "        angle = 90 + rect_angle\n",
    "\n",
    "    if angle>15:\n",
    "        return False\n",
    "\n",
    "    if height == 0 or width == 0:\n",
    "        return False\n",
    "\n",
    "    area = height*width\n",
    "    if not ratioCheck(area,width,height):\n",
    "        return False\n",
    "    else:\n",
    "        return True\n",
    "\n",
    "def cleanAndRead(img,contours):\n",
    "    \"\"\"Takes the extracted contours and once it passes the rotation\n",
    "    and ratio checks it passes the potential license plate to PyTesseract for OCR reading\"\"\"\n",
    "    for i,cnt in enumerate(contours):\n",
    "        min_rect = cv2.minAreaRect(cnt)\n",
    "\n",
    "        if validateRotationAndRatio(min_rect):\n",
    "\n",
    "            x,y,w,h = cv2.boundingRect(cnt)\n",
    "            plate_img = img[y:y+h,x:x+w]\n",
    "\n",
    "            if(isMaxWhite(plate_img)):\n",
    "                clean_plate, rect = cleanPlate(plate_img)\n",
    "                \n",
    "                if rect:\n",
    "                    x1,y1,w1,h1 = rect\n",
    "                    x,y,w,h = x+x1,y+y1,w1,h1\n",
    "                    cv2.imshow(\"Cleaned Plate\", clean_plate)\n",
    "                    cv2.waitKey(0)\n",
    "                    plate_im = Image.fromarray(clean_plate)\n",
    "                    text = tess.image_to_string(plate_im, lang='eng')\n",
    "                    print(\"Detected Text : \", text)\n",
    "                    img = cv2.rectangle(img,(x,y),(x+w,y+h),(0,255,0),2)\n",
    "                    cv2.imshow(\"Detected Plate\", img)\n",
    "                    cv2.waitKey(0)\n",
    "\n",
    "if __name__ == '__main__':\n",
    "    print(\"DETECTING PLATE . . .\")\n",
    "\n",
    "    # Path to the license plate you wish to read\n",
    "    img = cv2.imread(\"./images/car3.jpg\")\n",
    "    threshold_img = preprocess(img)\n",
    "    contours= extract_contours(threshold_img)\n",
    "    cleanAndRead(img,contours)\n",
    "    cv2.destroyAllWindows()"
   ]
  }
 ],
 "metadata": {
  "kernelspec": {
   "display_name": "Python 3",
   "language": "python",
   "name": "python3"
  },
  "language_info": {
   "codemirror_mode": {
    "name": "ipython",
    "version": 3
   },
   "file_extension": ".py",
   "mimetype": "text/x-python",
   "name": "python",
   "nbconvert_exporter": "python",
   "pygments_lexer": "ipython3",
   "version": "3.7.3"
  }
 },
 "nbformat": 4,
 "nbformat_minor": 2
}
