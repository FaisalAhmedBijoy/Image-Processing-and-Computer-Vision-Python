{
 "cells": [
  {
   "cell_type": "markdown",
   "metadata": {},
   "source": [
    "# Contours"
   ]
  },
  {
   "cell_type": "code",
   "execution_count": 1,
   "metadata": {},
   "outputs": [
    {
     "name": "stdout",
     "output_type": "stream",
     "text": [
      "Number of Contours found = 3\n"
     ]
    }
   ],
   "source": [
    "import cv2\n",
    "import numpy as np\n",
    "\n",
    "# Let's load a simple image with 3 black squares\n",
    "image = cv2.imread('images/shapes.jpg')\n",
    "cv2.imshow('Input Image', image)\n",
    "cv2.waitKey(0)\n",
    "\n",
    "# Grayscale\n",
    "gray = cv2.cvtColor(image,cv2.COLOR_BGR2GRAY)\n",
    "cv2.imshow('Gray Image',gray)\n",
    "cv2.waitKey(0)\n",
    "\n",
    "\n",
    "# Find Canny edges but canny is optional in this ,it is used to reduce noise\n",
    "edged = cv2.Canny(gray, 30, 200)\n",
    "cv2.imshow('Canny Edges', edged)\n",
    "cv2.waitKey(0)\n",
    "\n",
    "# Finding Contours\n",
    "# Use a copy of your image e.g. edged.copy(), since findContours alters the image\n",
    "contours, hierarchy = cv2.findContours(edged, cv2.RETR_EXTERNAL, cv2.CHAIN_APPROX_SIMPLE )\n",
    "cv2.imshow('Canny Edges After Contouring', edged)\n",
    "cv2.waitKey(0)\n",
    "\n",
    "\n",
    "print(\"Number of Contours found = \" + str(len(contours)))\n",
    "\n",
    "# Draw all contours\n",
    "# Use '-1' as the 3rd parameter to draw all\n",
    "cv2.drawContours(image, contours, -1, (0,255,0), 3)\n",
    "\n",
    "cv2.imshow('Contours', image)\n",
    "cv2.waitKey(0)\n",
    "cv2.destroyAllWindows()"
   ]
  },
  {
   "cell_type": "code",
   "execution_count": 2,
   "metadata": {},
   "outputs": [
    {
     "data": {
      "text/plain": [
       "[array([[[368, 157]],\n",
       " \n",
       "        [[366, 159]],\n",
       " \n",
       "        [[367, 160]],\n",
       " \n",
       "        [[366, 161]],\n",
       " \n",
       "        [[366, 296]],\n",
       " \n",
       "        [[367, 297]],\n",
       " \n",
       "        [[367, 302]],\n",
       " \n",
       "        [[487, 302]],\n",
       " \n",
       "        [[488, 303]],\n",
       " \n",
       "        [[491, 303]],\n",
       " \n",
       "        [[493, 301]],\n",
       " \n",
       "        [[492, 300]],\n",
       " \n",
       "        [[492, 299]],\n",
       " \n",
       "        [[493, 298]],\n",
       " \n",
       "        [[493, 297]],\n",
       " \n",
       "        [[492, 296]],\n",
       " \n",
       "        [[492, 160]],\n",
       " \n",
       "        [[493, 159]],\n",
       " \n",
       "        [[491, 157]],\n",
       " \n",
       "        [[490, 158]],\n",
       " \n",
       "        [[487, 158]],\n",
       " \n",
       "        [[486, 157]]], dtype=int32), array([[[520,  63]],\n",
       " \n",
       "        [[518,  65]],\n",
       " \n",
       "        [[518, 310]],\n",
       " \n",
       "        [[519, 311]],\n",
       " \n",
       "        [[782, 311]],\n",
       " \n",
       "        [[782,  64]],\n",
       " \n",
       "        [[781,  63]]], dtype=int32), array([[[ 16,  19]],\n",
       " \n",
       "        [[ 15,  20]],\n",
       " \n",
       "        [[ 15,  21]],\n",
       " \n",
       "        [[ 14,  22]],\n",
       " \n",
       "        [[ 14, 305]],\n",
       " \n",
       "        [[ 15, 306]],\n",
       " \n",
       "        [[ 15, 308]],\n",
       " \n",
       "        [[330, 308]],\n",
       " \n",
       "        [[330, 307]],\n",
       " \n",
       "        [[331, 306]],\n",
       " \n",
       "        [[331, 304]],\n",
       " \n",
       "        [[330, 303]],\n",
       " \n",
       "        [[330,  23]],\n",
       " \n",
       "        [[331,  22]],\n",
       " \n",
       "        [[331,  21]],\n",
       " \n",
       "        [[330,  20]],\n",
       " \n",
       "        [[329,  20]],\n",
       " \n",
       "        [[328,  19]]], dtype=int32)]"
      ]
     },
     "execution_count": 2,
     "metadata": {},
     "output_type": "execute_result"
    }
   ],
   "source": [
    "contours"
   ]
  },
  {
   "cell_type": "code",
   "execution_count": 3,
   "metadata": {},
   "outputs": [
    {
     "data": {
      "text/plain": [
       "array([[[ 1, -1, -1, -1],\n",
       "        [ 2,  0, -1, -1],\n",
       "        [-1,  1, -1, -1]]], dtype=int32)"
      ]
     },
     "execution_count": 3,
     "metadata": {},
     "output_type": "execute_result"
    }
   ],
   "source": [
    "hierarchy"
   ]
  },
  {
   "cell_type": "markdown",
   "metadata": {},
   "source": [
    "# **cv2.findContours(image, Retrieval Mode, Approximation Method)**\n",
    "\n",
    "Returns -> contours, hierarchy\n",
    "\n",
    "**NOTE** In OpenCV 3.X, findContours returns a 3rd argument which is ret (or a boolean indicating if the function was successfully run). \n",
    "\n",
    "If you're using OpenCV 3.X replace line 12 with:\n",
    "\n",
    "_, contours, hierarchy = cv2.findContours(image, cv2.RETR_EXTERNAL, cv2.CHAIN_APPROX_NONE)\n",
    "\n",
    "The variable 'contours' are stored as a numpy array of (x,y) points that form the contour\n",
    "\n",
    "While, 'hierarchy' describes the child-parent relationships between contours (i.e. contours within contours)\n",
    "\n",
    "\n",
    "\n",
    "#### Approximation Methods\n",
    "\n",
    "Using cv2.CHAIN_APPROX_NONE stores all the boundary points. But we don't necessarily need all bounding points. If the points form a straight line, we only need the start and ending points of that line.\n",
    "\n",
    "Using cv2.CHAIN_APPROX_SIMPLE instead only provides these start and end points of bounding contours, thus resulting in much more efficent storage of contour information.."
   ]
  },
  {
   "cell_type": "code",
   "execution_count": null,
   "metadata": {},
   "outputs": [],
   "source": []
  },
  {
   "cell_type": "code",
   "execution_count": null,
   "metadata": {
    "collapsed": true
   },
   "outputs": [],
   "source": []
  }
 ],
 "metadata": {
  "kernelspec": {
   "display_name": "Python 3",
   "language": "python",
   "name": "python3"
  },
  "language_info": {
   "codemirror_mode": {
    "name": "ipython",
    "version": 3
   },
   "file_extension": ".py",
   "mimetype": "text/x-python",
   "name": "python",
   "nbconvert_exporter": "python",
   "pygments_lexer": "ipython3",
   "version": "3.7.3"
  }
 },
 "nbformat": 4,
 "nbformat_minor": 1
}
