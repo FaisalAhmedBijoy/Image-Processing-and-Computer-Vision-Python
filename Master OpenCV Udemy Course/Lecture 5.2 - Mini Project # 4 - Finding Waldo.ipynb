{
 "cells": [
  {
   "cell_type": "markdown",
   "metadata": {},
   "source": [
    "## Mini Project # 4 - Finding Waldo"
   ]
  },
  {
   "cell_type": "code",
   "execution_count": 6,
   "metadata": {},
   "outputs": [],
   "source": [
    "import cv2\n",
    "import numpy as np\n",
    "\n",
    "# Load input image and convert to grayscale\n",
    "image = cv2.imread('./images/WaldoBeach.jpg')\n",
    "cv2.imshow('Where is Waldo?', image)\n",
    "cv2.waitKey(0)\n",
    "gray = cv2.cvtColor(image, cv2.COLOR_BGR2GRAY)\n",
    "cv2.imshow('Gray image',gray)\n",
    "cv2.waitKey()\n",
    "\n",
    "# Load Template image\n",
    "template = cv2.imread('./images/waldo.jpg',0)\n",
    "cv2.imshow('Template image',template)\n",
    "cv2.waitKey()\n",
    "\n",
    "result = cv2.matchTemplate(gray, template, cv2.TM_CCOEFF)\n",
    "min_val, max_val, min_loc, max_loc = cv2.minMaxLoc(result)\n",
    "\n",
    "#Create Bounding Box\n",
    "top_left = max_loc\n",
    "bottom_right = (top_left[0] + 50, top_left[1] + 50)\n",
    "cv2.rectangle(image, top_left, bottom_right, (0,0,255), 5)\n",
    "\n",
    "cv2.imshow('Where is Waldo?', image)\n",
    "cv2.waitKey(0)\n",
    "cv2.destroyAllWindows()"
   ]
  },
  {
   "cell_type": "code",
   "execution_count": 4,
   "metadata": {},
   "outputs": [
    {
     "data": {
      "text/plain": [
       "array([[-339916.47  , -375029.5   , -478792.7   , ...,   56114.887 ,\n",
       "          61435.277 ,   63923.95  ],\n",
       "       [-363674.53  , -412678.16  , -485342.66  , ...,   63237.69  ,\n",
       "          72096.766 ,   77833.44  ],\n",
       "       [-377935.53  , -424517.84  , -429062.38  , ...,   54727.934 ,\n",
       "          47701.67  ,   49598.332 ],\n",
       "       ...,\n",
       "       [-136768.88  ,  -43374.676 ,  -37054.574 , ..., -892554.6   ,\n",
       "        -838970.7   , -891973.    ],\n",
       "       [ -52316.477 ,   12014.2295, -103470.69  , ..., -743128.3   ,\n",
       "        -720648.2   , -689493.06  ],\n",
       "       [ -95742.78  ,  -38446.254 , -128807.9   , ..., -461418.53  ,\n",
       "        -461471.38  , -380628.3   ]], dtype=float32)"
      ]
     },
     "execution_count": 4,
     "metadata": {},
     "output_type": "execute_result"
    }
   ],
   "source": [
    "result"
   ]
  },
  {
   "cell_type": "code",
   "execution_count": 5,
   "metadata": {},
   "outputs": [
    {
     "data": {
      "text/plain": [
       "(-2278824.0, 7682581.5, (40, 389), (484, 262))"
      ]
     },
     "execution_count": 5,
     "metadata": {},
     "output_type": "execute_result"
    }
   ],
   "source": [
    "min_val,max_val,min_loc,max_loc"
   ]
  },
  {
   "cell_type": "markdown",
   "metadata": {},
   "source": [
    "### Notes on Template Matching\n",
    "\n",
    "There are a variety of methods to perform template matching, but in this case we are using the correlation coefficient which is specified by the flag **cv2.TM_CCOEFF.**\n",
    "\n",
    "So what exactly is the cv2.matchTemplate function doing?\n",
    "Essentially, this function takes a “sliding window” of our waldo query image and slides it across our puzzle image from left to right and top to bottom, one pixel at a time. Then, for each of these locations, we compute the correlation coefficient to determine how “good” or “bad” the match is. \n",
    "\n",
    "Regions with sufficiently high correlation can be considered “matches” for our waldo template.\n",
    "From there, all we need is a call to cv2.minMaxLoc on Line 22 to find where our “good” matches are.\n",
    "That’s really all there is to template matching!\n",
    "\n",
    "http://docs.opencv.org/2.4/modules/imgproc/doc/object_detection.html      "
   ]
  },
  {
   "cell_type": "code",
   "execution_count": null,
   "metadata": {
    "collapsed": true
   },
   "outputs": [],
   "source": []
  },
  {
   "cell_type": "code",
   "execution_count": null,
   "metadata": {
    "collapsed": true
   },
   "outputs": [],
   "source": []
  },
  {
   "cell_type": "code",
   "execution_count": null,
   "metadata": {
    "collapsed": true
   },
   "outputs": [],
   "source": []
  }
 ],
 "metadata": {
  "kernelspec": {
   "display_name": "Python 3",
   "language": "python",
   "name": "python3"
  },
  "language_info": {
   "codemirror_mode": {
    "name": "ipython",
    "version": 3
   },
   "file_extension": ".py",
   "mimetype": "text/x-python",
   "name": "python",
   "nbconvert_exporter": "python",
   "pygments_lexer": "ipython3",
   "version": "3.7.3"
  }
 },
 "nbformat": 4,
 "nbformat_minor": 1
}
